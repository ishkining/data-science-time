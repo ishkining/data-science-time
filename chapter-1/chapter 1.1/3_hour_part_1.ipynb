{
 "cells": [
  {
   "cell_type": "code",
   "execution_count": 2,
   "id": "29e23a23",
   "metadata": {},
   "outputs": [],
   "source": [
    "import pandas as pd\n",
    "df = pd.read_csv('N:\\projects\\data-science-time\\chapter-1\\chapter 1.1\\music_log_upd.csv')"
   ]
  },
  {
   "cell_type": "code",
   "execution_count": 3,
   "id": "ce00c76f",
   "metadata": {},
   "outputs": [
    {
     "data": {
      "text/html": [
       "<div>\n",
       "<style scoped>\n",
       "    .dataframe tbody tr th:only-of-type {\n",
       "        vertical-align: middle;\n",
       "    }\n",
       "\n",
       "    .dataframe tbody tr th {\n",
       "        vertical-align: top;\n",
       "    }\n",
       "\n",
       "    .dataframe thead th {\n",
       "        text-align: right;\n",
       "    }\n",
       "</style>\n",
       "<table border=\"1\" class=\"dataframe\">\n",
       "  <thead>\n",
       "    <tr style=\"text-align: right;\">\n",
       "      <th></th>\n",
       "      <th>user_id</th>\n",
       "      <th>total_play_seconds</th>\n",
       "      <th>artist_name</th>\n",
       "      <th>genre_name</th>\n",
       "      <th>track_name</th>\n",
       "    </tr>\n",
       "  </thead>\n",
       "  <tbody>\n",
       "    <tr>\n",
       "      <th>61207</th>\n",
       "      <td>18510741</td>\n",
       "      <td>109.000000</td>\n",
       "      <td>Steel Pulse</td>\n",
       "      <td>reggae</td>\n",
       "      <td>Chant A Psalm</td>\n",
       "    </tr>\n",
       "    <tr>\n",
       "      <th>61208</th>\n",
       "      <td>2E27DF51</td>\n",
       "      <td>220.551837</td>\n",
       "      <td>Nadine Coyle</td>\n",
       "      <td>pop</td>\n",
       "      <td>Girls On Fire</td>\n",
       "    </tr>\n",
       "    <tr>\n",
       "      <th>61209</th>\n",
       "      <td>4F29D4D5</td>\n",
       "      <td>26.127000</td>\n",
       "      <td>Digital Hero</td>\n",
       "      <td>dance</td>\n",
       "      <td>The Model</td>\n",
       "    </tr>\n",
       "    <tr>\n",
       "      <th>61210</th>\n",
       "      <td>26B7058C</td>\n",
       "      <td>292.455000</td>\n",
       "      <td>Red God</td>\n",
       "      <td>metal</td>\n",
       "      <td>Действуй!</td>\n",
       "    </tr>\n",
       "    <tr>\n",
       "      <th>61211</th>\n",
       "      <td>DB0038A8</td>\n",
       "      <td>11.529112</td>\n",
       "      <td>Less Chapell</td>\n",
       "      <td>pop</td>\n",
       "      <td>Home</td>\n",
       "    </tr>\n",
       "  </tbody>\n",
       "</table>\n",
       "</div>"
      ],
      "text/plain": [
       "        user_id  total_play_seconds   artist_name genre_name     track_name\n",
       "61207  18510741          109.000000   Steel Pulse     reggae  Chant A Psalm\n",
       "61208  2E27DF51          220.551837  Nadine Coyle        pop  Girls On Fire\n",
       "61209  4F29D4D5           26.127000  Digital Hero      dance      The Model\n",
       "61210  26B7058C          292.455000       Red God      metal      Действуй!\n",
       "61211  DB0038A8           11.529112  Less Chapell        pop           Home"
      ]
     },
     "execution_count": 3,
     "metadata": {},
     "output_type": "execute_result"
    }
   ],
   "source": [
    "df.tail() "
   ]
  },
  {
   "cell_type": "code",
   "execution_count": 4,
   "id": "a0dbf22c",
   "metadata": {},
   "outputs": [
    {
     "data": {
      "text/plain": [
       "<pandas.core.groupby.generic.DataFrameGroupBy object at 0x00000179056F1340>"
      ]
     },
     "execution_count": 4,
     "metadata": {},
     "output_type": "execute_result"
    }
   ],
   "source": [
    "df.tail().groupby('user_id') "
   ]
  },
  {
   "cell_type": "code",
   "execution_count": 5,
   "id": "0f693dfc",
   "metadata": {},
   "outputs": [
    {
     "data": {
      "text/html": [
       "<div>\n",
       "<style scoped>\n",
       "    .dataframe tbody tr th:only-of-type {\n",
       "        vertical-align: middle;\n",
       "    }\n",
       "\n",
       "    .dataframe tbody tr th {\n",
       "        vertical-align: top;\n",
       "    }\n",
       "\n",
       "    .dataframe thead th {\n",
       "        text-align: right;\n",
       "    }\n",
       "</style>\n",
       "<table border=\"1\" class=\"dataframe\">\n",
       "  <thead>\n",
       "    <tr style=\"text-align: right;\">\n",
       "      <th></th>\n",
       "      <th>total_play_seconds</th>\n",
       "    </tr>\n",
       "    <tr>\n",
       "      <th>user_id</th>\n",
       "      <th></th>\n",
       "    </tr>\n",
       "  </thead>\n",
       "  <tbody>\n",
       "    <tr>\n",
       "      <th>18510741</th>\n",
       "      <td>109.000000</td>\n",
       "    </tr>\n",
       "    <tr>\n",
       "      <th>26B7058C</th>\n",
       "      <td>292.455000</td>\n",
       "    </tr>\n",
       "    <tr>\n",
       "      <th>2E27DF51</th>\n",
       "      <td>220.551837</td>\n",
       "    </tr>\n",
       "    <tr>\n",
       "      <th>4F29D4D5</th>\n",
       "      <td>26.127000</td>\n",
       "    </tr>\n",
       "    <tr>\n",
       "      <th>DB0038A8</th>\n",
       "      <td>11.529112</td>\n",
       "    </tr>\n",
       "  </tbody>\n",
       "</table>\n",
       "</div>"
      ],
      "text/plain": [
       "          total_play_seconds\n",
       "user_id                     \n",
       "18510741          109.000000\n",
       "26B7058C          292.455000\n",
       "2E27DF51          220.551837\n",
       "4F29D4D5           26.127000\n",
       "DB0038A8           11.529112"
      ]
     },
     "execution_count": 5,
     "metadata": {},
     "output_type": "execute_result"
    }
   ],
   "source": [
    "df.tail().groupby('user_id').sum() "
   ]
  },
  {
   "cell_type": "code",
   "execution_count": 6,
   "id": "993d105b",
   "metadata": {},
   "outputs": [
    {
     "name": "stdout",
     "output_type": "stream",
     "text": [
      "total_play_seconds    109.0\n",
      "dtype: float64\n"
     ]
    }
   ],
   "source": [
    "print(df.tail().groupby('user_id').sum().median()) "
   ]
  },
  {
   "cell_type": "code",
   "execution_count": null,
   "id": "785418e2",
   "metadata": {},
   "outputs": [],
   "source": []
  }
 ],
 "metadata": {
  "kernelspec": {
   "display_name": "Python 3 (ipykernel)",
   "language": "python",
   "name": "python3"
  },
  "language_info": {
   "codemirror_mode": {
    "name": "ipython",
    "version": 3
   },
   "file_extension": ".py",
   "mimetype": "text/x-python",
   "name": "python",
   "nbconvert_exporter": "python",
   "pygments_lexer": "ipython3",
   "version": "3.9.13"
  }
 },
 "nbformat": 4,
 "nbformat_minor": 5
}
